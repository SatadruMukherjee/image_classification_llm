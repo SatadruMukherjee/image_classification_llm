{
  "nbformat": 4,
  "nbformat_minor": 0,
  "metadata": {
    "colab": {
      "provenance": []
    },
    "kernelspec": {
      "name": "python3",
      "display_name": "Python 3"
    },
    "language_info": {
      "name": "python"
    }
  },
  "cells": [
    {
      "cell_type": "code",
      "execution_count": 1,
      "metadata": {
        "colab": {
          "base_uri": "https://localhost:8080/"
        },
        "id": "3ZLadvZSuKRj",
        "outputId": "bff297f1-f11f-402d-e943-9fc585a537e4"
      },
      "outputs": [
        {
          "output_type": "stream",
          "name": "stdout",
          "text": [
            "Collecting boto3\n",
            "  Downloading boto3-1.34.122-py3-none-any.whl (139 kB)\n",
            "\u001b[2K     \u001b[90m━━━━━━━━━━━━━━━━━━━━━━━━━━━━━━━━━━━━━━━━\u001b[0m \u001b[32m139.3/139.3 kB\u001b[0m \u001b[31m2.2 MB/s\u001b[0m eta \u001b[36m0:00:00\u001b[0m\n",
            "\u001b[?25hCollecting pinecone-client\n",
            "  Downloading pinecone_client-4.1.1-py3-none-any.whl (216 kB)\n",
            "\u001b[2K     \u001b[90m━━━━━━━━━━━━━━━━━━━━━━━━━━━━━━━━━━━━━━━━\u001b[0m \u001b[32m216.2/216.2 kB\u001b[0m \u001b[31m9.3 MB/s\u001b[0m eta \u001b[36m0:00:00\u001b[0m\n",
            "\u001b[?25hCollecting botocore<1.35.0,>=1.34.122 (from boto3)\n",
            "  Downloading botocore-1.34.122-py3-none-any.whl (12.3 MB)\n",
            "\u001b[2K     \u001b[90m━━━━━━━━━━━━━━━━━━━━━━━━━━━━━━━━━━━━━━━━\u001b[0m \u001b[32m12.3/12.3 MB\u001b[0m \u001b[31m49.0 MB/s\u001b[0m eta \u001b[36m0:00:00\u001b[0m\n",
            "\u001b[?25hCollecting jmespath<2.0.0,>=0.7.1 (from boto3)\n",
            "  Downloading jmespath-1.0.1-py3-none-any.whl (20 kB)\n",
            "Collecting s3transfer<0.11.0,>=0.10.0 (from boto3)\n",
            "  Downloading s3transfer-0.10.1-py3-none-any.whl (82 kB)\n",
            "\u001b[2K     \u001b[90m━━━━━━━━━━━━━━━━━━━━━━━━━━━━━━━━━━━━━━━━\u001b[0m \u001b[32m82.2/82.2 kB\u001b[0m \u001b[31m10.4 MB/s\u001b[0m eta \u001b[36m0:00:00\u001b[0m\n",
            "\u001b[?25hRequirement already satisfied: certifi>=2019.11.17 in /usr/local/lib/python3.10/dist-packages (from pinecone-client) (2024.6.2)\n",
            "Collecting pinecone-plugin-interface<0.0.8,>=0.0.7 (from pinecone-client)\n",
            "  Downloading pinecone_plugin_interface-0.0.7-py3-none-any.whl (6.2 kB)\n",
            "Requirement already satisfied: tqdm>=4.64.1 in /usr/local/lib/python3.10/dist-packages (from pinecone-client) (4.66.4)\n",
            "Requirement already satisfied: typing-extensions>=3.7.4 in /usr/local/lib/python3.10/dist-packages (from pinecone-client) (4.12.1)\n",
            "Requirement already satisfied: urllib3>=1.26.0 in /usr/local/lib/python3.10/dist-packages (from pinecone-client) (2.0.7)\n",
            "Requirement already satisfied: python-dateutil<3.0.0,>=2.1 in /usr/local/lib/python3.10/dist-packages (from botocore<1.35.0,>=1.34.122->boto3) (2.8.2)\n",
            "Requirement already satisfied: six>=1.5 in /usr/local/lib/python3.10/dist-packages (from python-dateutil<3.0.0,>=2.1->botocore<1.35.0,>=1.34.122->boto3) (1.16.0)\n",
            "Installing collected packages: pinecone-plugin-interface, jmespath, pinecone-client, botocore, s3transfer, boto3\n",
            "Successfully installed boto3-1.34.122 botocore-1.34.122 jmespath-1.0.1 pinecone-client-4.1.1 pinecone-plugin-interface-0.0.7 s3transfer-0.10.1\n"
          ]
        }
      ],
      "source": [
        "!pip install boto3 pinecone-client"
      ]
    },
    {
      "cell_type": "code",
      "source": [
        "!curl https://idp-assets-wwso.s3.us-east-2.amazonaws.com/workshop-data/docClassificationSamples.zip --output /content/docClassificationSamples.zip"
      ],
      "metadata": {
        "colab": {
          "base_uri": "https://localhost:8080/"
        },
        "id": "BxP3thNgwHxP",
        "outputId": "dde87696-bab3-4a5d-dde3-93344679c968"
      },
      "execution_count": 2,
      "outputs": [
        {
          "output_type": "stream",
          "name": "stdout",
          "text": [
            "  % Total    % Received % Xferd  Average Speed   Time    Time     Time  Current\n",
            "                                 Dload  Upload   Total   Spent    Left  Speed\n",
            "100 56.9M  100 56.9M    0     0  76.9M      0 --:--:-- --:--:-- --:--:-- 76.9M\n"
          ]
        }
      ]
    },
    {
      "cell_type": "code",
      "source": [
        "!unzip /content/docClassificationSamples.zip -d /content"
      ],
      "metadata": {
        "id": "K4V1MkLP1IoZ",
        "colab": {
          "base_uri": "https://localhost:8080/"
        },
        "outputId": "ed47a8f6-c920-4204-f8f5-cee9b602eeb1"
      },
      "execution_count": 3,
      "outputs": [
        {
          "output_type": "stream",
          "name": "stdout",
          "text": [
            "Archive:  /content/docClassificationSamples.zip\n",
            "   creating: /content/sampleGallery/\n",
            "   creating: /content/sampleGallery/BankStatements/\n",
            "  inflating: /content/sampleGallery/BankStatements/PacificWesternBankStatement__page1__pg100087__127.png  \n",
            " extracting: /content/sampleGallery/BankStatements/ValleyBankStatement__page1__pg1000126__031.png  \n",
            " extracting: /content/sampleGallery/BankStatements/WebsterBankStatement__page1__pg1000136__042.png  \n",
            "   creating: /content/sampleGallery/ClosingDisclosure/\n",
            "  inflating: /content/sampleGallery/ClosingDisclosure/ClosingDisclosure_page1_1.jpeg  \n",
            "  inflating: /content/sampleGallery/ClosingDisclosure/ClosingDisclosure_page1_2.jpeg  \n",
            "   creating: /content/sampleGallery/Invoices/\n",
            "  inflating: /content/sampleGallery/Invoices/invoice1.tif  \n",
            "  inflating: /content/sampleGallery/Invoices/invoice2.png  \n",
            "  inflating: /content/sampleGallery/Invoices/invoice3.tif  \n",
            "   creating: /content/sampleGallery/SSCards/\n",
            "  inflating: /content/sampleGallery/SSCards/SSC__pagex__SSC1__001.jpg  \n",
            "  inflating: /content/sampleGallery/SSCards/SSC__pagex__SSC1__004.jpg  \n",
            "   creating: /content/sampleGallery/W4/\n",
            "  inflating: /content/sampleGallery/W4/W4_page1_1.jpg  \n",
            "  inflating: /content/sampleGallery/W4/W4_page1_2.jpeg  \n",
            "   creating: /content/testGallery/\n",
            "  inflating: /content/testGallery/Atlantic_BankStatement.png  \n",
            "  inflating: /content/testGallery/ClosingDisclosure.jpg  \n",
            "  inflating: /content/testGallery/invoice.tif  \n",
            "  inflating: /content/testGallery/SSCard.jpg  \n",
            "  inflating: /content/testGallery/W4.jpeg  \n",
            "  inflating: /content/sampleGallery/Emails/email1.tif  \n",
            "  inflating: /content/testGallery/Email.tif  \n"
          ]
        }
      ]
    },
    {
      "cell_type": "code",
      "source": [
        "import json\n",
        "import boto3\n",
        "import base64\n",
        "import os\n",
        "\n",
        "bedrock_runtime=boto3.client('bedrock-runtime',region_name='us-east-1',aws_access_key_id='{Put your AWS Access Key here}',aws_secret_access_key='{Put your AWS Secret Access Key here}')\n",
        "\n",
        "from pinecone import Pinecone\n",
        "\n",
        "pc = Pinecone(api_key=\"{Put your Pinecone API Key here}\")\n",
        "index = pc.Index(\"{Put your Pinecone Index name here}\")\n",
        "\n",
        "from io import BytesIO\n",
        "from PIL import Image\n",
        "\n",
        "MAX_IMAGE_HEIGHT: int = 2048\n",
        "MAX_IMAGE_WIDTH: int = 2048\n",
        "\n",
        "def resizeandGetByteData(imageFile):\n",
        "    image = Image.open(imageFile)\n",
        "    if (image.size[0] * image.size[1]) > (MAX_IMAGE_HEIGHT * MAX_IMAGE_WIDTH):\n",
        "        image = image.resize((MAX_IMAGE_HEIGHT, MAX_IMAGE_WIDTH))\n",
        "    with BytesIO() as output:\n",
        "        image.save(output, 'png')\n",
        "        bytes_data = output.getvalue()\n",
        "    return bytes_data\n",
        "\n",
        "\n",
        "def image_embedding(image_name):\n",
        "  bytes_data = resizeandGetByteData(image_name)\n",
        "  input_image = base64.b64encode(bytes_data).decode('utf8')\n",
        "  body = json.dumps(\n",
        "    {\n",
        "        \"inputImage\": input_image\n",
        "    }\n",
        "  )\n",
        "  response = bedrock_runtime.invoke_model(\n",
        "  body=body,\n",
        "  modelId=\"amazon.titan-embed-image-v1\",\n",
        "  accept=\"application/json\",\n",
        "  contentType=\"application/json\"\n",
        "  )\n",
        "  response_body = json.loads(response.get(\"body\").read())\n",
        "  return response_body.get(\"embedding\")\n",
        "\n",
        "def get_image_files_from_directory(directory):\n",
        "    return [os.path.join(directory, file) for file in os.listdir(directory)]\n",
        "\n",
        "# Directory containing the images of BankStatements\n",
        "image_directory = '/content/sampleGallery/BankStatements'\n",
        "\n",
        "# Get list of image files in the BankStatements directory\n",
        "data_to_store = get_image_files_from_directory(image_directory)\n",
        "\n",
        "print(\"Storing BankStatements data : \",data_to_store)\n",
        "\n",
        "vectors=[]\n",
        "for i in data_to_store:\n",
        "  vectors.append({\n",
        "            \"id\":i,\n",
        "            \"values\": image_embedding(i),\n",
        "            \"metadata\": {\"category\": \"BankStatements\"}\n",
        "        })\n",
        "\n",
        "index.upsert(\n",
        "    vectors=vectors,\n",
        "    namespace= \"ns1\"\n",
        ")\n",
        "\n",
        "\n",
        "vectors=[]\n",
        "# Directory containing the images of ClosingDisclosure\n",
        "image_directory = '/content/sampleGallery/ClosingDisclosure'\n",
        "\n",
        "# Get list of image files in the ClosingDisclosure directory\n",
        "data_to_store = get_image_files_from_directory(image_directory)\n",
        "\n",
        "print(\"Storing ClosingDisclosure data : \",data_to_store)\n",
        "\n",
        "vectors=[]\n",
        "for i in data_to_store:\n",
        "  vectors.append({\n",
        "            \"id\":i,\n",
        "            \"values\": image_embedding(i),\n",
        "            \"metadata\": {\"category\": \"ClosingDisclosure\"}\n",
        "        })\n",
        "\n",
        "index.upsert(\n",
        "    vectors=vectors,\n",
        "    namespace= \"ns1\"\n",
        ")\n",
        "\n",
        "# Directory containing the images of Emails\n",
        "image_directory = '/content/sampleGallery/Emails'\n",
        "\n",
        "# Get list of image files in the Emails directory\n",
        "data_to_store = get_image_files_from_directory(image_directory)\n",
        "\n",
        "print(\"Storing Emails data : \",data_to_store)\n",
        "\n",
        "vectors=[]\n",
        "for i in data_to_store:\n",
        "  vectors.append({\n",
        "            \"id\":i,\n",
        "            \"values\": image_embedding(i),\n",
        "            \"metadata\": {\"category\": \"Emails\"}\n",
        "        })\n",
        "\n",
        "index.upsert(\n",
        "    vectors=vectors,\n",
        "    namespace= \"ns1\"\n",
        ")\n",
        "\n",
        "# Directory containing the images of Invoices\n",
        "image_directory = '/content/sampleGallery/Invoices'\n",
        "\n",
        "# Get list of image files in the Invoices directory\n",
        "data_to_store = get_image_files_from_directory(image_directory)\n",
        "\n",
        "print(\"Storing Invoices data : \",data_to_store)\n",
        "\n",
        "vectors=[]\n",
        "for i in data_to_store:\n",
        "  vectors.append({\n",
        "            \"id\":i,\n",
        "            \"values\": image_embedding(i),\n",
        "            \"metadata\": {\"category\": \"Invoices\"}\n",
        "        })\n",
        "\n",
        "index.upsert(\n",
        "    vectors=vectors,\n",
        "    namespace= \"ns1\"\n",
        ")\n",
        "\n",
        "# Directory containing the images of SSCards\n",
        "image_directory = '/content/sampleGallery/SSCards'\n",
        "\n",
        "# Get list of image files in the SSCards directory\n",
        "data_to_store = get_image_files_from_directory(image_directory)\n",
        "\n",
        "print(\"Storing SSCards data : \",data_to_store)\n",
        "\n",
        "vectors=[]\n",
        "for i in data_to_store:\n",
        "  vectors.append({\n",
        "            \"id\":i,\n",
        "            \"values\": image_embedding(i),\n",
        "            \"metadata\": {\"category\": \"SSCards\"}\n",
        "        })\n",
        "\n",
        "index.upsert(\n",
        "    vectors=vectors,\n",
        "    namespace= \"ns1\"\n",
        ")\n",
        "\n",
        "# Directory containing the images of W4\n",
        "image_directory = '/content/sampleGallery/W4'\n",
        "\n",
        "# Get list of image files in the W4 directory\n",
        "data_to_store = get_image_files_from_directory(image_directory)\n",
        "\n",
        "print(\"Storing W4 data : \",data_to_store)\n",
        "\n",
        "vectors=[]\n",
        "for i in data_to_store:\n",
        "  vectors.append({\n",
        "            \"id\":i,\n",
        "            \"values\": image_embedding(i),\n",
        "            \"metadata\": {\"category\": \"W4\"}\n",
        "        })\n",
        "\n",
        "index.upsert(\n",
        "    vectors=vectors,\n",
        "    namespace= \"ns1\"\n",
        ")"
      ],
      "metadata": {
        "id": "sK0Cp9scv51O",
        "colab": {
          "base_uri": "https://localhost:8080/"
        },
        "outputId": "b0ed9aff-8cb0-44b5-bab5-79b31431e8ab",
        "collapsed": true
      },
      "execution_count": 4,
      "outputs": [
        {
          "output_type": "stream",
          "name": "stdout",
          "text": [
            "Storing BankStatements data :  ['/content/sampleGallery/BankStatements/PacificWesternBankStatement__page1__pg100087__127.png', '/content/sampleGallery/BankStatements/WebsterBankStatement__page1__pg1000136__042.png', '/content/sampleGallery/BankStatements/ValleyBankStatement__page1__pg1000126__031.png']\n",
            "Storing ClosingDisclosure data :  ['/content/sampleGallery/ClosingDisclosure/ClosingDisclosure_page1_1.jpeg', '/content/sampleGallery/ClosingDisclosure/ClosingDisclosure_page1_2.jpeg']\n",
            "Storing Emails data :  ['/content/sampleGallery/Emails/email1.tif']\n",
            "Storing Invoices data :  ['/content/sampleGallery/Invoices/invoice2.png', '/content/sampleGallery/Invoices/invoice1.tif', '/content/sampleGallery/Invoices/invoice3.tif']\n",
            "Storing SSCards data :  ['/content/sampleGallery/SSCards/SSC__pagex__SSC1__001.jpg', '/content/sampleGallery/SSCards/SSC__pagex__SSC1__004.jpg']\n",
            "Storing W4 data :  ['/content/sampleGallery/W4/W4_page1_1.jpg', '/content/sampleGallery/W4/W4_page1_2.jpeg']\n"
          ]
        },
        {
          "output_type": "execute_result",
          "data": {
            "text/plain": [
              "{'upserted_count': 2}"
            ]
          },
          "metadata": {},
          "execution_count": 4
        }
      ]
    },
    {
      "cell_type": "code",
      "source": [
        "classification=index.query(\n",
        "    namespace=\"ns1\",\n",
        "    vector=image_embedding('/content/testGallery/Atlantic_BankStatement.png'),\n",
        "    include_metadata=True,\n",
        "    top_k=1\n",
        ")\n",
        "#print(classification)\n",
        "classification['matches'][0]['metadata']['category']"
      ],
      "metadata": {
        "colab": {
          "base_uri": "https://localhost:8080/",
          "height": 36
        },
        "id": "A-1rFUQw2488",
        "outputId": "dffa36d3-81f7-440b-b137-5b750203e819"
      },
      "execution_count": 5,
      "outputs": [
        {
          "output_type": "execute_result",
          "data": {
            "text/plain": [
              "'BankStatements'"
            ],
            "application/vnd.google.colaboratory.intrinsic+json": {
              "type": "string"
            }
          },
          "metadata": {},
          "execution_count": 5
        }
      ]
    }
  ]
}